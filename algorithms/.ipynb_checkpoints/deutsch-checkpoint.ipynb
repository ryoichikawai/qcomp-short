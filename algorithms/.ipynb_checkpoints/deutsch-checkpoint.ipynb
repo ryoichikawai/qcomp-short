{
 "cells": [
  {
   "cell_type": "markdown",
   "id": "f051c019-a883-401d-8bbd-cb19414ecd5a",
   "metadata": {},
   "source": [
    "(sec-deustch)=\n",
    "# The Deutsch problem"
   ]
  },
  {
   "cell_type": "markdown",
   "id": "bc0be275-6dc0-4869-8540-8ccbad6cff4f",
   "metadata": {},
   "source": [
    "We are going to solve a kind of classification problem discussed originally by Deutsch {cite}`Deutsch1985`.   The problem itself is rather trivial and not really useful. However, it demonstrates an advantage of quantum computation over classical computation."
   ]
  },
  {
   "cell_type": "markdown",
   "id": "9fac5fa1-a468-4681-a04a-d9a5fcadcd45",
   "metadata": {
    "tags": []
   },
   "source": [
    "## The Objective\n",
    "\n",
    "Consider a binary function $x \\mapsto f(x)$ where $x \\in \\{0,1\\}$ and $f(x)  \\in \\{0,1\\}$. There are only four possible functions, $f_1,\\, f_2,\\, f_3,\\, f_4$.\n",
    "\n",
    "<table>\n",
    "    <thead>\n",
    "        <th><i>x</i></th><th><i>f</i><sub>1</sub></th><th><i>f</i><sub>2</sub></th><th><i>f</i><sub>3</sub></th><th><i>f</i><sub>4</sub></th>\n",
    "    </thead>\n",
    "    <tr>\n",
    "        <td>0</td><td>0</td><td>1</td><td>0</td><td>1</td>\n",
    "    </tr>\n",
    "    <tr>\n",
    "        <td>1</td><td>0</td><td>1</td><td>1</td><td>0</td>\n",
    "    </tr>\n",
    "</table>\n",
    "\n",
    "An oracle possess one of these functions.  We can ask it questions like \"what is the value of $f(1)$?\"  To find what function it has, we need to ask two questions, \"what are $f(0)$ and $f(1)$?\".  Now, let us try a simpler problem.  The outputs of $f_1$ and $f_2$ are always the same regardless of the input values.  So, we call them *constant* function.  On the other hand, the outputs of $f_3$ and $f_4$ contain both $0$ and $1$.  We shall call them *balanced* function.  Now, our task is to determine which type of the functions the oracle possess, constant or balanced. Hence, this is a classification task. Only we need to find out is if $f(0)=f(1)$ or $f(0)\\ne f(1)$.  How many questions do we need to ask?  Although we don't have to identify the function, it seems that we still need to ask two questions. It turns out that the Deutsch's quantum algorithm requires only one question."
   ]
  },
  {
   "cell_type": "markdown",
   "id": "a6d8fcbe-4080-42eb-8b25-c824ff54ca65",
   "metadata": {},
   "source": [
    "## Encoding the functions\n",
    "\n",
    "Before solving the problem, we need to find out how to express a function using gates.  Every gate is a unitary operator and thus the operation is reversible.  While $f_3$ and $f_4$ are bijective (invertible), $f_1$ and $f_2$ are even not surjective  and thus not invertible.  Here we use a two-qubit gate $U_f$ acting on $|q_0\\rangle \\otimes |q_1\\rangle$ as defined by\n",
    "\n",
    "$$\n",
    "U_f |x\\rangle \\otimes  |y\\rangle = |x\\rangle \\otimes |y \\oplus f(x)\\rangle\n",
    "$$\n",
    "\n",
    "where $\\oplus$ is modulo-2 addition.  The qubit $q_0$ contains the value of $x$ and its value is not affected by the gate.  The second qubit $q_1$ is transformed from $y$ to $y \\otimes f(x)$.  When $y=0$, the output is simply the function value $f(x)$.  When $y=1$, $1 \\oplus f(x) = 1 - f(x)$.   By knowing the value of $y$ and $y \\oplus f(x)$, we can find $f(x)$. \n",
    "\n",
    "Does such a gate exist?  If the gate is invertible, we can construct a unitary operator. Noting that $z \\oplus z = 0$ for any $z$, \n",
    "\n",
    "$$\n",
    "U_f |x\\rangle \\otimes |y \\oplus f(x)\\rangle = |x\\rangle \\otimes |y \\oplus f(x) \\oplus f(x)\\rangle = |x\\rangle \\otimes |y \\rangle\n",
    "$$\n",
    "\n",
    "indicating that $U_f^{-1} = U_f$.  We just make it sure that $U_f$ is self-adjoint.  Here we show the actual gates:"
   ]
  },
  {
   "cell_type": "markdown",
   "id": "2956d62d-fa9e-48e5-b1ab-2a90fbd74ad7",
   "metadata": {},
   "source": [
    "\n",
    "---\n",
    "\n",
    "* $f_1(x)$\n",
    "\n",
    "Since $f(x)=0$, \n",
    "\n",
    "$$\n",
    "U_{f_1} |x\\rangle \\otimes |y\\rangle =  |x\\rangle \\otimes |y \\oplus 0\\rangle = |x\\rangle \\otimes |y\\rangle\n",
    "$$\n",
    "\n",
    "Hence, $U_{f_1} = I$  (identity operator).\n",
    "\n",
    "---\n",
    "\n",
    "* $f_2(x)$\n",
    "\n",
    "Since $f(x) =1$\n",
    "\n",
    "$$\n",
    "U_{f_2} |x\\rangle \\otimes |y\\rangle =  |x\\rangle \\otimes |y \\oplus 1\\rangle = |x\\rangle \\otimes (X|y\\rangle)\n",
    "= (I \\otimes X)  |x\\rangle \\otimes |y\\rangle\n",
    "$$\n",
    "\n",
    "Hence, $U_{f_2} = I \\otimes X$.\n",
    "\n",
    "---\n",
    "\n",
    "* $f_3(x)$\n",
    "\n",
    "Since $f(x) = x$,\n",
    "\n",
    "$$\n",
    "U_{f_3} |x\\rangle \\otimes |y\\rangle =  |x\\rangle \\otimes |y \\oplus x\\rangle \n",
    "$$\n",
    "\n",
    "The output is $|0\\rangle \\otimes |y\\rangle$ if $x=0$ and  $|1\\rangle \\otimes X|y\\rangle>$ if $x=1$.  Hence $x$ is a control bit and $y$ flips only when $x=1$.  This is not the standard control gate.  We need to flip $q_0$ before  and after applying the control-$X$, which is  $U_{f_3} = (X \\otimes I) \\cdot CX_{q_0,q_1} \\cdot (X \\otimes I)$.\n",
    "\n",
    "---\n",
    "\n",
    "* $f_4(x)$\n",
    "\n",
    "Since $f(x) = 1-x$,\n",
    "\n",
    "$$\n",
    "U_{f_4} |x\\rangle \\otimes |y\\rangle =  |x\\rangle \\otimes |y \\oplus (1-x) \\rangle \n",
    "$$\n",
    "\n",
    "The output is $0\\rangle \\otimes X|y\\rangle$ if $x=0$ and  $|0\\rangle \\otimes |y\\rangle>$ if $x=1$.  Hence $x$ is a control bit and $y$ flips only when $x=0$.  Thus,  $U_{f_4} = CX_{q_0,q_1}$.\n",
    "\n",
    "---"
   ]
  },
  {
   "cell_type": "markdown",
   "id": "7e4da097-4cbd-45fd-9e44-0ac9d5ef3769",
   "metadata": {},
   "source": [
    "## No-so smart algorithm\n",
    "\n",
    "We just showed that how to encode the functions.  However, that is not our task.  The oracle has one of the above gates $U_{f_i}$.  We want to know if it is constant or balanced.\n",
    "\n",
    "Let's us begin with a not-so-smart method.  We just ask two questions.  That is to apply $U_f$ twice, the first one for $x=0$ and the second for $x=1$.\n",
    "\n",
    "$$\n",
    "|0\\rangle \\otimes |0 \\rangle \\xrightarrow{U_f} |0\\rangle \\otimes |f(0)\\rangle \\xrightarrow{X\\otimes I} |1\\rangle \\otimes |f(0)\\rangle  \\rangle \\xrightarrow{U_f} |1\\rangle \\otimes |f(0) \\oplus f(1)\\rangle \n",
    "$$\n",
    "\n",
    "Now, we measure $q_1$.  The outcome is $f(0)\\oplus f(1)$ with probability 1 (no error). The oracle has a constant function if the $f(0)\\oplus f(1) = 0$ and a balanced function if  $f(0)\\oplus f(1) = 1$."
   ]
  },
  {
   "cell_type": "code",
   "execution_count": 1,
   "id": "6c71853e-74bb-4d6f-a238-e5fd81da3714",
   "metadata": {},
   "outputs": [
    {
     "data": {
      "image/png": "[encoded data removed]",
      "text/plain": [
       "<Figure size 1123.41x284.278 with 1 Axes>"
      ]
     },
     "execution_count": 1,
     "metadata": {},
     "output_type": "execute_result"
    }
   ],
   "source": [
    "# Define functions\n",
    "import numpy as np\n",
    "\n",
    "from qiskit import *\n",
    "from qiskit_aer import Aer\n",
    "\n",
    "cr=ClassicalRegister(1,'c')\n",
    "qr=QuantumRegister(2,'q')\n",
    "qc=QuantumCircuit(qr,cr)\n",
    "\n",
    "#chose a function at random\n",
    "k=np.random.randint(1,4)\n",
    "if k==1:\n",
    "    oracle = \"constant\"\n",
    "elif k==2:\n",
    "    oracle = \"constant\"        \n",
    "elif k==3:\n",
    "    oracle = \"balanced\"        \n",
    "elif k==4:\n",
    "    oracle = \"balanced\"\n",
    "    \n",
    "# Define Uf (Only Oracle knows it)\n",
    "def Uf(k):\n",
    "    \n",
    "    # Uf appears between barriers\n",
    "    qc.barrier([qr[0],qr[1]])\n",
    "    \n",
    "    if k==1:\n",
    "        qc.id([qr[0],qr[1]])\n",
    "        oracle = \"constant\"\n",
    "    elif k==2:\n",
    "        qc.x(qr[1])\n",
    "        oracle = \"constant\"        \n",
    "    elif k==3:\n",
    "        qc.x(qr[0])\n",
    "        qc.cx(qr[0],qr[1])\n",
    "        qc.x(qr[0])\n",
    "        oracle = \"balanced\"        \n",
    "    elif k==4:\n",
    "        qc.cx(qr[0],qr(1))\n",
    "        oracle = \"balanced\"\n",
    "        \n",
    "    qc.barrier([qr[0],qr[1]])\n",
    "    \n",
    "    \n",
    "# Consturct circuit\n",
    "\n",
    "Uf(k)\n",
    "qc.x(qr[0])\n",
    "Uf(k)\n",
    "qc.measure(qr[1],cr[0])\n",
    "qc.draw('mpl')\n"
   ]
  },
  {
   "cell_type": "code",
   "execution_count": 2,
   "id": "0f332ab3-61f9-4c20-af31-418430909e3a",
   "metadata": {},
   "outputs": [
    {
     "name": "stdout",
     "output_type": "stream",
     "text": [
      "Quantum computer has found that the function is balanced .\n",
      "Correct! Oracle has balanced .\n"
     ]
    }
   ],
   "source": [
    "# Chose a general quantum simulator without noise.\n",
    "# The simulator behaves as an ideal quantum computer.\n",
    "backend = Aer.get_backend('qasm_simulator')\n",
    "\n",
    "# set number of tries\n",
    "nshots=8192\n",
    "\n",
    "# execute the quantum circuit and store the outcome\n",
    "job = backend.run(qc,shots=nshots)\n",
    "\n",
    "# extract the result\n",
    "result = job.result()\n",
    "\n",
    "# count the outcome\n",
    "counts = result.get_counts()\n",
    "\n",
    "# evaluate the probability\n",
    "p0=counts.get('0',0)/nshots\n",
    "p1=counts.get('1',0)/nshots\n",
    "\n",
    "if p0 > p1:\n",
    "    answer = \"constant\"\n",
    "elif p0 < p1:\n",
    "    answer = \"balanced\"\n",
    "else:\n",
    "    answer = \"unknown\"\n",
    "       \n",
    "print(\"Quantum computer has found that the function is\",answer,\".\")\n",
    "\n",
    "if oracle==answer:\n",
    "    print(\"Correct! Oracle has\",oracle,\".\")\n",
    "else:\n",
    "    print(\"Wrong! Oracle has\",oracle,\".\")\n"
   ]
  },
  {
   "cell_type": "markdown",
   "id": "eb6bc43d-f2d6-48c8-957e-f4647cf15eef",
   "metadata": {},
   "source": [
    "## The Deutsch's algorithm\n",
    "\n",
    "Here is a challenge.  Can we solve the problem using $U_f$ only once? In the previous algorithm, we use $U_f$ twice, first for $x=0$ and second for $x=1$.  The key idea is that $y$ can be in a superposition state.  If $|y\\rangle = |-\\rangle$, what would be the answer from the oracle? \n",
    "\n",
    "Let us try to find how the oracle responds.\n",
    "\n",
    "$$\n",
    "U_f |x\\rangle \\otimes |-\\rangle = |x \\rangle \\otimes \\frac{1}{\\sqrt{2}} \\left( |f(x)\\rangle - |1\\oplus f(x)\\rangle\\right) = (-1)^{f(x)} |x\\rangle \\otimes |-\\rangle\n",
    "$$\n",
    "\n",
    "Depending on the value of $f(x)$, the gate does nothing or changes the phase.  This trick is known as *phase kickback*.\n",
    "\n",
    "Now, we replace $|x\\rangle$ with another superposition state $|+\\rangle$.\n",
    "\n",
    "$$\n",
    "U_f |+\\rangle \\otimes |-\\rangle = \\frac{1}{\\sqrt{2}} \\left [ (-1)^{f(0)} |0\\rangle \\otimes -\\rangle + (-1)^{f(1)} | 1 \\rangle \\otimes |-\\rangle \\right ]\n",
    "$$(Uf+-)\n",
    "\n",
    "If the function is constant, $f(0)=f(1)$.  Then, Eq. {eq}`Uf+-` becomes\n",
    "\n",
    "$$\n",
    "U_f |+\\rangle \\otimes |-\\rangle = (-1)^{f(0)} |+\\rangle \\otimes |-\\rangle\n",
    "$$(Uf+-constant)\n",
    "\n",
    "In it is balanced, $f(0)\\ne f(1)$, then we have\n",
    "\n",
    "$$\n",
    "U_f |+\\rangle \\otimes |-\\rangle = \\pm |-\\rangle \\otimes |-\\rangle\n",
    "$$(Uf+-balanced)\n",
    "\n",
    "Apart from the global phase, the difference between Eqs. {eq}`Uf+-constant` and {eq}`Uf+-balanced` is the state of $q_0$.  If it is $+\\rangle$, then the answer is constant. If it is $|-\\rangle$ then, the answer is balanced.  Since we can measure only in the computational basis, we transofrm $\\pm\\rangle$ by a Hadamard gate.\n",
    "\n",
    "Here is the summary of the Deustch's algorithm.\n",
    "\n",
    "1. Prepare $|+\\rangle \\otimes |-\\rangle$.\n",
    "2. Apply $U_f$.\n",
    "3. Apply $H \\otimes I$\n",
    "4. Measure $q_0$\n",
    "\n",
    "We use $U_f$ only once!   Notice that we calculate $x=0$ and $x=1$ simultaneously using the super position state."
   ]
  },
  {
   "cell_type": "code",
   "execution_count": 3,
   "id": "b160076b-935e-4c5e-968f-42d9dc2f1bc5",
   "metadata": {},
   "outputs": [
    {
     "data": {
      "image/png": "[encoded data removed]",
      "text/plain": [
       "<Figure size 872.572x284.278 with 1 Axes>"
      ]
     },
     "execution_count": 3,
     "metadata": {},
     "output_type": "execute_result"
    }
   ],
   "source": [
    "cr=ClassicalRegister(1,'c')\n",
    "qr=QuantumRegister(2,'q')\n",
    "qc=QuantumCircuit(qr,cr)\n",
    "\n",
    "qc.x(qr[1])\n",
    "qc.h([qr[0],qr[1]])\n",
    "Uf(k)\n",
    "qc.h(qr[0])\n",
    "qc.measure(qr[0],cr[0])\n",
    "\n",
    "qc.draw('mpl')"
   ]
  },
  {
   "cell_type": "code",
   "execution_count": 4,
   "id": "8ac1e922-f73c-418a-bd6a-21598d2ad956",
   "metadata": {},
   "outputs": [
    {
     "name": "stdout",
     "output_type": "stream",
     "text": [
      "The function is found to be balanced ( oracle actually has balanced )\n"
     ]
    }
   ],
   "source": [
    "# Chose a general quantum simulator without noise.\n",
    "# The simulator behaves as an ideal quantum computer.\n",
    "backend = Aer.get_backend('qasm_simulator')\n",
    "\n",
    "# set number of tries\n",
    "nshots=8192\n",
    "\n",
    "# execute the quantum circuit and store the outcome\n",
    "job = backend.run(qc,shots=nshots)\n",
    "\n",
    "# extract the result\n",
    "result = job.result()\n",
    "\n",
    "# count the outcome\n",
    "counts = result.get_counts()\n",
    "\n",
    "from qiskit.visualization import plot_histogram\n",
    "plot_histogram(counts)\n",
    "\n",
    "p0=counts.get('0',0)/nshots\n",
    "p1=counts.get('1',0)/nshots\n",
    "\n",
    "if p0 > p1:\n",
    "    answer = \"constant\"\n",
    "elif p0 < p1:\n",
    "    answer = \"balanced\"\n",
    "else:\n",
    "    answer = \"unknown\"\n",
    "       \n",
    "print(\"The function is found to be\",answer, \"( oracle actually has\",oracle,\")\")\n"
   ]
  },
  {
   "cell_type": "markdown",
   "id": "c53a7cdd-19ff-4a40-9e93-d53ec96dd74d",
   "metadata": {},
   "source": [
    "\n",
    "---\n",
    "Last modified: 08/31/2022"
   ]
  },
  {
   "cell_type": "code",
   "execution_count": null,
   "id": "f60ef25d-3a2b-44bd-b665-14e3f3035841",
   "metadata": {},
   "outputs": [],
   "source": []
  }
 ],
 "metadata": {
  "kernelspec": {
   "display_name": "qiskit",
   "language": "python",
   "name": "qiskit"
  },
  "language_info": {
   "codemirror_mode": {
    "name": "ipython",
    "version": 3
   },
   "file_extension": ".py",
   "mimetype": "text/x-python",
   "name": "python",
   "nbconvert_exporter": "python",
   "pygments_lexer": "ipython3",
   "version": "3.13.5"
  }
 },
 "nbformat": 4,
 "nbformat_minor": 5
}
